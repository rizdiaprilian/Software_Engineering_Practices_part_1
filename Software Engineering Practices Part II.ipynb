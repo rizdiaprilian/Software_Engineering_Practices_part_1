{
 "cells": [
  {
   "cell_type": "markdown",
   "metadata": {},
   "source": [
    "## Software Engineering Practices Part II\n",
    "\n",
    "A complementary to previous section, Software Engineering Practices Part I. Take a further step and make code more robust with :\n",
    "\n",
    "   - Testing\n",
    "   - Logging\n",
    "   - Code Reviews\n",
    "\n",
    "\n",
    "    "
   ]
  },
  {
   "cell_type": "markdown",
   "metadata": {},
   "source": [
    "### Testing\n",
    "\n",
    "- A standard in software engineering, and data scientists in majority are lacking of testing experience when starting off in industry\n",
    "- In occassion, insights come from the result of untested code.\n",
    "- The code seems working fine, unaware that certain values will be encoded incorrectly along with inappropriate feature use, or unexpected feauture that breaks assumption on statistical model base.\n",
    "- Test Driven Development : A development process where tests are written for tasks before writing the code to implement those tasks. \n",
    "- Unit Test: A test covering a \"unit\" of code, usually a function, independently from the rest of the program."
   ]
  },
  {
   "cell_type": "markdown",
   "metadata": {},
   "source": [
    "#### Unit Test\n",
    "\n",
    "- Ideally, program test automatically runs all unit test and inform which one is succeeded or fail\n",
    "- Repeatable and automated\n",
    "- Unit test is isolated from the rest of program, no dependencies required\n",
    "- Passing test alone does not guarantee that the program is working successfully\n",
    "- Integration test is taken when all the parts of program work each other properly, as well as data communication and transfer. "
   ]
  },
  {
   "cell_type": "markdown",
   "metadata": {},
   "source": [
    "#### Unit Test Tools\n",
    "\n",
    "Source: https://docs.pytest.org/en/latest/getting-started.html\n",
    "\n",
    "Steps: \n",
    "- Create a test file and write a function that has a specific function for unit test \n",
    "- Add another file defining a new function to test the function\n",
    "- Enter pytest in a directory of test file"
   ]
  },
  {
   "cell_type": "markdown",
   "metadata": {},
   "source": [
    "### Test Driven Development"
   ]
  },
  {
   "cell_type": "code",
   "execution_count": 26,
   "metadata": {},
   "outputs": [
    {
     "name": "stdout",
     "output_type": "stream",
     "text": [
      "False\n",
      "True\n",
      "False\n"
     ]
    }
   ],
   "source": [
    "### Workflow example ###\n",
    "\n",
    "# valid email\n",
    "def email_validator(email):\n",
    "    if email.count(\"@\") != 0 and email[0] in ['0','1','2','3','4','5'] or email[-1] in ['0','1','2','3','4','5']:\n",
    "        return False\n",
    "    else:\n",
    "        return True\n",
    "    \n",
    "# start testing\n",
    "print(email_validator(\"3saddaaku@ymail.com\"))\n",
    "print(email_validator(\"saddaaaku5@ymail.com\"))\n",
    "print(email_validator(\"tmei@endresch@ymail.com4\"))"
   ]
  },
  {
   "cell_type": "markdown",
   "metadata": {},
   "source": [
    "Resources:\n",
    "\n",
    "   - Data Science TDD\n",
    "   - TDD for Data Science\n",
    "   - TDD is Essential for Good Data Science Here's Why\n",
    "   - Testing your code"
   ]
  },
  {
   "cell_type": "code",
   "execution_count": null,
   "metadata": {},
   "outputs": [],
   "source": []
  }
 ],
 "metadata": {
  "kernelspec": {
   "display_name": "Python [conda env:jcopml]",
   "language": "python",
   "name": "conda-env-jcopml-py"
  },
  "language_info": {
   "codemirror_mode": {
    "name": "ipython",
    "version": 3
   },
   "file_extension": ".py",
   "mimetype": "text/x-python",
   "name": "python",
   "nbconvert_exporter": "python",
   "pygments_lexer": "ipython3",
   "version": "3.7.6"
  }
 },
 "nbformat": 4,
 "nbformat_minor": 4
}
